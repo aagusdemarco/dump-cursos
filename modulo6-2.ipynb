{
 "cells": [
  {
   "cell_type": "code",
   "execution_count": 18,
   "metadata": {},
   "outputs": [
    {
     "name": "stdout",
     "output_type": "stream",
     "text": [
      "Primeras filas del DataFrame: \n",
      "  nombre  edad  puntaje\n",
      "0    Ana    25       85\n",
      "1   Juan    30       92\n",
      "\n",
      "Información básica del DataFrame: \n",
      "La edad maxima es: 30 \n",
      "La edad minima es: 22 \n",
      "El puntaje maximo es: 92 \n",
      "El puntaje minimo es: 65\n",
      "\n",
      "Estadísticas descriptivas del DataFrame: \n",
      "Edad: \n",
      "count     4.00\n",
      "mean     26.25\n",
      "std       3.50\n",
      "min      22.00\n",
      "25%      24.25\n",
      "50%      26.50\n",
      "75%      28.50\n",
      "max      30.00\n",
      "Name: edad, dtype: float64 \n",
      "Puntaje: \n",
      "count     4.000000\n",
      "mean     80.000000\n",
      "std      11.518102\n",
      "min      65.000000\n",
      "25%      74.750000\n",
      "50%      81.500000\n",
      "75%      86.750000\n",
      "max      92.000000\n",
      "Name: puntaje, dtype: float64\n",
      "  nombre  edad  puntaje\n",
      "1   Juan    30       92\n",
      "2  María    28       78\n",
      "  nombre  edad  puntaje\n",
      "2  María    28       78\n",
      "1   Juan    30       92\n",
      "  nombre  edad  puntaje  doble_puntaje contrasenia\n",
      "1   Juan    30       92            184      Juan30\n",
      "2  María    28       78            156     María28\n"
     ]
    },
    {
     "name": "stderr",
     "output_type": "stream",
     "text": [
      "C:\\Users\\demar\\AppData\\Local\\Temp\\ipykernel_6280\\2341052456.py:37: SettingWithCopyWarning: \n",
      "A value is trying to be set on a copy of a slice from a DataFrame.\n",
      "Try using .loc[row_indexer,col_indexer] = value instead\n",
      "\n",
      "See the caveats in the documentation: https://pandas.pydata.org/pandas-docs/stable/user_guide/indexing.html#returning-a-view-versus-a-copy\n",
      "  datos_filtrados[\"doble_puntaje\"] = datos_filtrados[\"puntaje\"] * 2\n",
      "C:\\Users\\demar\\AppData\\Local\\Temp\\ipykernel_6280\\2341052456.py:38: SettingWithCopyWarning: \n",
      "A value is trying to be set on a copy of a slice from a DataFrame.\n",
      "Try using .loc[row_indexer,col_indexer] = value instead\n",
      "\n",
      "See the caveats in the documentation: https://pandas.pydata.org/pandas-docs/stable/user_guide/indexing.html#returning-a-view-versus-a-copy\n",
      "  datos_filtrados['contrasenia'] = datos_filtrados['nombre'] + datos_filtrados['edad'].astype(str)\n"
     ]
    }
   ],
   "source": [
    "# Importá la librería y creá el dataframe correspondiente.\n",
    "import pandas as pd\n",
    "\n",
    "# Crear un DataFrame con datos ficticios\n",
    "Ejemplo = pd.DataFrame({\n",
    "    'nombre': ['Ana', 'Juan', 'María', 'Carlos'],\n",
    "    'edad': [25, 30, 28, 22],\n",
    "    'puntaje': [85, 92, 78, 65]\n",
    "})\n",
    "\n",
    "# Mostrá las primeras filas del DataFrame\n",
    "primeras = Ejemplo.head(2)\n",
    "print(f\"Primeras filas del DataFrame: \\n{primeras}\")\n",
    "\n",
    "# Mostrá información básica del DataFrame\n",
    "edad_maxima = Ejemplo['edad'].max()\n",
    "edad_minima = Ejemplo['edad'].min()\n",
    "puntaje_maximo = Ejemplo['puntaje'].max()\n",
    "puntaje_minimo = Ejemplo['puntaje'].min()\n",
    "print(f\"\\nInformación básica del DataFrame: \\nLa edad maxima es: {edad_maxima} \\nLa edad minima es: {edad_minima} \\nEl puntaje maximo es: {puntaje_maximo} \\nEl puntaje minimo es: {puntaje_minimo}\")\n",
    "\n",
    "\n",
    "# Calculá estadísticas descriptivas (describe)\n",
    "stats_edad = Ejemplo['edad'].describe()\n",
    "stats_puntaje = Ejemplo['puntaje'].describe()\n",
    "print(f\"\\nEstadísticas descriptivas del DataFrame: \\nEdad: \\n{stats_edad} \\nPuntaje: \\n{stats_puntaje}\") \n",
    "\n",
    "# Filtrá las filas basadas en una condición, (por ejemplo, que la edad sea mayor a 25)\n",
    "datos_filtrados = Ejemplo.query('edad > 25')\n",
    "print(datos_filtrados)\n",
    "\n",
    "# Ordená los datos por una columna en orden ascendente.\n",
    "datos_ordenados = datos_filtrados.sort_values(by='edad', ascending=True)\n",
    "print(datos_ordenados)\n",
    "\n",
    "# Agregamos una columna, en este caso doble_puntaje. Agregale la columna contrasenia que sea el nombre y la edad juntos. Ej: Ana25\n",
    "datos_filtrados[\"doble_puntaje\"] = datos_filtrados[\"puntaje\"] * 2\n",
    "datos_filtrados['contrasenia'] = datos_filtrados['nombre'] + datos_filtrados['edad'].astype(str)\n",
    "print(datos_filtrados)\n"
   ]
  }
 ],
 "metadata": {
  "kernelspec": {
   "display_name": "Python 3",
   "language": "python",
   "name": "python3"
  },
  "language_info": {
   "codemirror_mode": {
    "name": "ipython",
    "version": 3
   },
   "file_extension": ".py",
   "mimetype": "text/x-python",
   "name": "python",
   "nbconvert_exporter": "python",
   "pygments_lexer": "ipython3",
   "version": "3.11.4"
  }
 },
 "nbformat": 4,
 "nbformat_minor": 2
}
