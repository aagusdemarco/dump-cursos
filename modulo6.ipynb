{
 "cells": [
  {
   "cell_type": "code",
   "execution_count": 4,
   "metadata": {},
   "outputs": [
    {
     "name": "stdout",
     "output_type": "stream",
     "text": [
      "    Lunes  Martes  Miercoles  Jueves  Viernes  Sabado  Domingo\n",
      "0  1000.0    2000       2300    4000    30000     250    12200\n",
      "1  1350.0   40700       3000    5000    45000    1250     1880\n",
      "2  1555.0    2340       2300    7000      300    3330     5022\n",
      "3  1356.5     200        130    8000     5550   21120     1876\n",
      "    Lunes   Martes  Miercoles  Jueves  Viernes   Sabado  Domingo\n",
      "0   800.0   1600.0     1840.0  3200.0  24000.0    200.0   9760.0\n",
      "1  1080.0  32560.0     2400.0  4000.0  36000.0   1000.0   1504.0\n",
      "2  1244.0   1872.0     1840.0  5600.0    240.0   2664.0   4017.6\n",
      "3  1085.2    160.0      104.0  6400.0   4440.0  16896.0   1500.8\n"
     ]
    },
    {
     "name": "stdout",
     "output_type": "stream",
     "text": [
      "      Lunes   Martes  Miercoles  Jueves  Viernes   Sabado  Domingo\n",
      "0   750.000   1500.0     1725.0  3000.0  22500.0    187.5   9150.0\n",
      "1  1012.500  30525.0     2250.0  3750.0  33750.0    937.5   1410.0\n",
      "2  1166.250   1755.0     1725.0  5250.0    225.0   2497.5   3766.5\n",
      "3  1017.375    150.0       97.5  6000.0   4162.5  15840.0   1407.0\n"
     ]
    }
   ],
   "source": [
    "import pandas as pd\n",
    "import numpy as np\n",
    "\n",
    "# Generamos números aleatorios entre -100 y 100\n",
    "data = np.random.randint(-100, 101, size=(4, 5))\n",
    "\n",
    "# Creo el DataFRame\n",
    "df = pd.DataFrame(data, columns=['Columna1', 'Columna2', 'Columna3', 'Columna4', 'Columna5'])\n",
    "\n",
    "print(df)\n",
    "\n",
    "suma = df.sum()\n",
    "print(suma)\n",
    "\n",
    "minimo = df.min()\n",
    "maximo = df.max()\n",
    "print(f'El minimo es \\n{minimo}, \\nEl maximo es \\n{maximo}') \n",
    "\n",
    "data2 = pd.DataFrame([[1000,2000,2300,4000,30000,250,12200],[1350,40700,3000,5000,45000,1250,1880],[1555,2340,2300,7000,300,3330,5022],[1356.50,200,130,8000,5550,21120,1876]],columns=['Lunes', 'Martes', 'Miercoles', 'Jueves', 'Viernes', 'Sabado','Domingo'])\n",
    "print(data2)\n",
    "\n",
    "porcentaje = data2 * 0.8\n",
    "print(porcentaje) \n",
    "\n",
    "porcentaje1 = input('Ingrese el porcentaje que quiere obtener de los datos: ')\n",
    "\n",
    "def aplicar_porciento(percentage, data_frame):\n",
    "    percentage = float(percentage) / 100\n",
    "    data_frame = data_frame * percentage\n",
    "    return data_frame\n",
    "    \n",
    "\n",
    "print(aplicar_porciento(porcentaje1, data2))\n",
    "\n"
   ]
  }
 ],
 "metadata": {
  "kernelspec": {
   "display_name": "Python 3",
   "language": "python",
   "name": "python3"
  },
  "language_info": {
   "codemirror_mode": {
    "name": "ipython",
    "version": 3
   },
   "file_extension": ".py",
   "mimetype": "text/x-python",
   "name": "python",
   "nbconvert_exporter": "python",
   "pygments_lexer": "ipython3",
   "version": "3.11.5"
  }
 },
 "nbformat": 4,
 "nbformat_minor": 2
}
